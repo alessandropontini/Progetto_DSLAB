{
 "cells": [
  {
   "cell_type": "code",
   "execution_count": 294,
   "metadata": {},
   "outputs": [
    {
     "data": {
      "text/html": [
       "<div>\n",
       "<style scoped>\n",
       "    .dataframe tbody tr th:only-of-type {\n",
       "        vertical-align: middle;\n",
       "    }\n",
       "\n",
       "    .dataframe tbody tr th {\n",
       "        vertical-align: top;\n",
       "    }\n",
       "\n",
       "    .dataframe thead th {\n",
       "        text-align: right;\n",
       "    }\n",
       "</style>\n",
       "<table border=\"1\" class=\"dataframe\">\n",
       "  <thead>\n",
       "    <tr style=\"text-align: right;\">\n",
       "      <th></th>\n",
       "      <th>Unnamed: 0</th>\n",
       "      <th>TSTOT.PrezzoITA</th>\n",
       "      <th>TSTOT.ConsumiITA</th>\n",
       "      <th>TSTOT.GradiITA</th>\n",
       "      <th>TSTOT.BankHolidayITA</th>\n",
       "      <th>TSTOT.EndYearITA</th>\n",
       "      <th>TSTOT.AugustBorderITA</th>\n",
       "      <th>TSTOT.EndYearITA.1</th>\n",
       "      <th>TSTOT.AugustCenterITA</th>\n",
       "      <th>lunedi</th>\n",
       "      <th>martedi</th>\n",
       "      <th>mercoledi</th>\n",
       "      <th>giovedi</th>\n",
       "      <th>venerdi</th>\n",
       "      <th>sabato</th>\n",
       "      <th>domenica</th>\n",
       "    </tr>\n",
       "  </thead>\n",
       "  <tbody>\n",
       "    <tr>\n",
       "      <td>0</td>\n",
       "      <td>0</td>\n",
       "      <td>61.10</td>\n",
       "      <td>21393.44</td>\n",
       "      <td>-1.0</td>\n",
       "      <td>0.0</td>\n",
       "      <td>0.0</td>\n",
       "      <td>0.0</td>\n",
       "      <td>0.0</td>\n",
       "      <td>0.0</td>\n",
       "      <td>0.0</td>\n",
       "      <td>0.0</td>\n",
       "      <td>0.0</td>\n",
       "      <td>0.0</td>\n",
       "      <td>0.0</td>\n",
       "      <td>0.0</td>\n",
       "      <td>1.0</td>\n",
       "    </tr>\n",
       "    <tr>\n",
       "      <td>1</td>\n",
       "      <td>1</td>\n",
       "      <td>77.81</td>\n",
       "      <td>31193.08</td>\n",
       "      <td>5.0</td>\n",
       "      <td>0.0</td>\n",
       "      <td>1.0</td>\n",
       "      <td>0.0</td>\n",
       "      <td>1.0</td>\n",
       "      <td>0.0</td>\n",
       "      <td>1.0</td>\n",
       "      <td>0.0</td>\n",
       "      <td>0.0</td>\n",
       "      <td>0.0</td>\n",
       "      <td>0.0</td>\n",
       "      <td>0.0</td>\n",
       "      <td>0.0</td>\n",
       "    </tr>\n",
       "    <tr>\n",
       "      <td>2</td>\n",
       "      <td>2</td>\n",
       "      <td>81.54</td>\n",
       "      <td>32828.72</td>\n",
       "      <td>2.0</td>\n",
       "      <td>0.0</td>\n",
       "      <td>1.0</td>\n",
       "      <td>0.0</td>\n",
       "      <td>1.0</td>\n",
       "      <td>0.0</td>\n",
       "      <td>0.0</td>\n",
       "      <td>1.0</td>\n",
       "      <td>0.0</td>\n",
       "      <td>0.0</td>\n",
       "      <td>0.0</td>\n",
       "      <td>0.0</td>\n",
       "      <td>0.0</td>\n",
       "    </tr>\n",
       "    <tr>\n",
       "      <td>3</td>\n",
       "      <td>3</td>\n",
       "      <td>83.08</td>\n",
       "      <td>33032.88</td>\n",
       "      <td>0.0</td>\n",
       "      <td>0.0</td>\n",
       "      <td>1.0</td>\n",
       "      <td>0.0</td>\n",
       "      <td>1.0</td>\n",
       "      <td>0.0</td>\n",
       "      <td>0.0</td>\n",
       "      <td>0.0</td>\n",
       "      <td>1.0</td>\n",
       "      <td>0.0</td>\n",
       "      <td>0.0</td>\n",
       "      <td>0.0</td>\n",
       "      <td>0.0</td>\n",
       "    </tr>\n",
       "    <tr>\n",
       "      <td>4</td>\n",
       "      <td>4</td>\n",
       "      <td>84.42</td>\n",
       "      <td>32607.85</td>\n",
       "      <td>0.0</td>\n",
       "      <td>0.0</td>\n",
       "      <td>1.0</td>\n",
       "      <td>0.0</td>\n",
       "      <td>1.0</td>\n",
       "      <td>0.0</td>\n",
       "      <td>0.0</td>\n",
       "      <td>0.0</td>\n",
       "      <td>0.0</td>\n",
       "      <td>1.0</td>\n",
       "      <td>0.0</td>\n",
       "      <td>0.0</td>\n",
       "      <td>0.0</td>\n",
       "    </tr>\n",
       "    <tr>\n",
       "      <td>...</td>\n",
       "      <td>...</td>\n",
       "      <td>...</td>\n",
       "      <td>...</td>\n",
       "      <td>...</td>\n",
       "      <td>...</td>\n",
       "      <td>...</td>\n",
       "      <td>...</td>\n",
       "      <td>...</td>\n",
       "      <td>...</td>\n",
       "      <td>...</td>\n",
       "      <td>...</td>\n",
       "      <td>...</td>\n",
       "      <td>...</td>\n",
       "      <td>...</td>\n",
       "      <td>...</td>\n",
       "      <td>...</td>\n",
       "    </tr>\n",
       "    <tr>\n",
       "      <td>1455</td>\n",
       "      <td>1455</td>\n",
       "      <td>31.40</td>\n",
       "      <td>18366.95</td>\n",
       "      <td>5.0</td>\n",
       "      <td>0.0</td>\n",
       "      <td>0.0</td>\n",
       "      <td>0.0</td>\n",
       "      <td>0.0</td>\n",
       "      <td>0.0</td>\n",
       "      <td>0.0</td>\n",
       "      <td>0.0</td>\n",
       "      <td>0.0</td>\n",
       "      <td>0.0</td>\n",
       "      <td>0.0</td>\n",
       "      <td>0.0</td>\n",
       "      <td>1.0</td>\n",
       "    </tr>\n",
       "    <tr>\n",
       "      <td>1456</td>\n",
       "      <td>1456</td>\n",
       "      <td>36.52</td>\n",
       "      <td>19012.19</td>\n",
       "      <td>5.0</td>\n",
       "      <td>0.0</td>\n",
       "      <td>0.0</td>\n",
       "      <td>0.0</td>\n",
       "      <td>0.0</td>\n",
       "      <td>0.0</td>\n",
       "      <td>1.0</td>\n",
       "      <td>0.0</td>\n",
       "      <td>0.0</td>\n",
       "      <td>0.0</td>\n",
       "      <td>0.0</td>\n",
       "      <td>0.0</td>\n",
       "      <td>0.0</td>\n",
       "    </tr>\n",
       "    <tr>\n",
       "      <td>1457</td>\n",
       "      <td>1457</td>\n",
       "      <td>37.86</td>\n",
       "      <td>19565.76</td>\n",
       "      <td>1.0</td>\n",
       "      <td>0.0</td>\n",
       "      <td>1.0</td>\n",
       "      <td>0.0</td>\n",
       "      <td>1.0</td>\n",
       "      <td>0.0</td>\n",
       "      <td>0.0</td>\n",
       "      <td>1.0</td>\n",
       "      <td>0.0</td>\n",
       "      <td>0.0</td>\n",
       "      <td>0.0</td>\n",
       "      <td>0.0</td>\n",
       "      <td>0.0</td>\n",
       "    </tr>\n",
       "    <tr>\n",
       "      <td>1458</td>\n",
       "      <td>1458</td>\n",
       "      <td>25.58</td>\n",
       "      <td>20564.55</td>\n",
       "      <td>5.0</td>\n",
       "      <td>0.0</td>\n",
       "      <td>1.0</td>\n",
       "      <td>0.0</td>\n",
       "      <td>1.0</td>\n",
       "      <td>0.0</td>\n",
       "      <td>0.0</td>\n",
       "      <td>0.0</td>\n",
       "      <td>1.0</td>\n",
       "      <td>0.0</td>\n",
       "      <td>0.0</td>\n",
       "      <td>0.0</td>\n",
       "      <td>0.0</td>\n",
       "    </tr>\n",
       "    <tr>\n",
       "      <td>1459</td>\n",
       "      <td>1459</td>\n",
       "      <td>25.91</td>\n",
       "      <td>20601.47</td>\n",
       "      <td>3.0</td>\n",
       "      <td>0.0</td>\n",
       "      <td>1.0</td>\n",
       "      <td>0.0</td>\n",
       "      <td>1.0</td>\n",
       "      <td>0.0</td>\n",
       "      <td>0.0</td>\n",
       "      <td>0.0</td>\n",
       "      <td>0.0</td>\n",
       "      <td>0.0</td>\n",
       "      <td>1.0</td>\n",
       "      <td>0.0</td>\n",
       "      <td>0.0</td>\n",
       "    </tr>\n",
       "  </tbody>\n",
       "</table>\n",
       "<p>1460 rows × 16 columns</p>\n",
       "</div>"
      ],
      "text/plain": [
       "      Unnamed: 0  TSTOT.PrezzoITA  TSTOT.ConsumiITA  TSTOT.GradiITA  \\\n",
       "0              0            61.10          21393.44            -1.0   \n",
       "1              1            77.81          31193.08             5.0   \n",
       "2              2            81.54          32828.72             2.0   \n",
       "3              3            83.08          33032.88             0.0   \n",
       "4              4            84.42          32607.85             0.0   \n",
       "...          ...              ...               ...             ...   \n",
       "1455        1455            31.40          18366.95             5.0   \n",
       "1456        1456            36.52          19012.19             5.0   \n",
       "1457        1457            37.86          19565.76             1.0   \n",
       "1458        1458            25.58          20564.55             5.0   \n",
       "1459        1459            25.91          20601.47             3.0   \n",
       "\n",
       "      TSTOT.BankHolidayITA  TSTOT.EndYearITA  TSTOT.AugustBorderITA  \\\n",
       "0                      0.0               0.0                    0.0   \n",
       "1                      0.0               1.0                    0.0   \n",
       "2                      0.0               1.0                    0.0   \n",
       "3                      0.0               1.0                    0.0   \n",
       "4                      0.0               1.0                    0.0   \n",
       "...                    ...               ...                    ...   \n",
       "1455                   0.0               0.0                    0.0   \n",
       "1456                   0.0               0.0                    0.0   \n",
       "1457                   0.0               1.0                    0.0   \n",
       "1458                   0.0               1.0                    0.0   \n",
       "1459                   0.0               1.0                    0.0   \n",
       "\n",
       "      TSTOT.EndYearITA.1  TSTOT.AugustCenterITA  lunedi  martedi  mercoledi  \\\n",
       "0                    0.0                    0.0     0.0      0.0        0.0   \n",
       "1                    1.0                    0.0     1.0      0.0        0.0   \n",
       "2                    1.0                    0.0     0.0      1.0        0.0   \n",
       "3                    1.0                    0.0     0.0      0.0        1.0   \n",
       "4                    1.0                    0.0     0.0      0.0        0.0   \n",
       "...                  ...                    ...     ...      ...        ...   \n",
       "1455                 0.0                    0.0     0.0      0.0        0.0   \n",
       "1456                 0.0                    0.0     1.0      0.0        0.0   \n",
       "1457                 1.0                    0.0     0.0      1.0        0.0   \n",
       "1458                 1.0                    0.0     0.0      0.0        1.0   \n",
       "1459                 1.0                    0.0     0.0      0.0        0.0   \n",
       "\n",
       "      giovedi  venerdi  sabato  domenica  \n",
       "0         0.0      0.0     0.0       1.0  \n",
       "1         0.0      0.0     0.0       0.0  \n",
       "2         0.0      0.0     0.0       0.0  \n",
       "3         0.0      0.0     0.0       0.0  \n",
       "4         1.0      0.0     0.0       0.0  \n",
       "...       ...      ...     ...       ...  \n",
       "1455      0.0      0.0     0.0       1.0  \n",
       "1456      0.0      0.0     0.0       0.0  \n",
       "1457      0.0      0.0     0.0       0.0  \n",
       "1458      0.0      0.0     0.0       0.0  \n",
       "1459      0.0      1.0     0.0       0.0  \n",
       "\n",
       "[1460 rows x 16 columns]"
      ]
     },
     "execution_count": 294,
     "metadata": {},
     "output_type": "execute_result"
    }
   ],
   "source": [
    "import pandas as pd\n",
    "\n",
    "ita_08 = pd.read_csv(\"C:\\\\Users\\\\stefa\\\\Desktop\\\\dsLab\\\\progetto_finale\\\\berakbyHour\\\\italia8mattina.csv\")\n",
    "ita_08"
   ]
  },
  {
   "cell_type": "code",
   "execution_count": 295,
   "metadata": {},
   "outputs": [],
   "source": [
    "ita_08 = ita_08.drop(ita_08.columns[[0]], axis=1)\n",
    "del ita_08[\"TSTOT.EndYearITA.1\"]\n",
    "ita_08.columns = [\"Prezzo\",\"Consumo\",\"Gradi\",\"BankH\",\"EndYear\",\"AugustB\",\"AugustC\",\"lunedi\",\"martedi\",\"mercoledi\",\"giovedi\",\"venerdi\",\"sabato\",\"domenica\"]\n",
    "ita_08.Gradi = ita_08.Gradi.shift(1)\n",
    "ita_08.Prezzo = ita_08.Prezzo.shift(1)\n",
    "ita_08[\"Giorno\"] = [\"lun\" if lu==1 else \"mar\" if ma==1 else \"mer\" if me==1 else \"gio\" if gi==1 else \"ven\" if ve==1 else \"sab\" if sa==1 else \"dom\" for lu,ma,me,gi,ve,sa,do in zip(ita_08[\"lunedi\"],ita_08[\"martedi\"],ita_08[\"mercoledi\"],ita_08[\"giovedi\"],ita_08[\"venerdi\"],ita_08[\"sabato\"],ita_08[\"domenica\"])]\n",
    "\n",
    "del ita_08[\"lunedi\"]\n",
    "del ita_08[\"martedi\"]\n",
    "del ita_08[\"mercoledi\"]\n",
    "del ita_08[\"giovedi\"]\n",
    "del ita_08[\"venerdi\"]\n",
    "del ita_08[\"sabato\"]\n",
    "del ita_08[\"domenica\"]\n",
    "ita_08 = ita_08.dropna()"
   ]
  },
  {
   "cell_type": "code",
   "execution_count": 296,
   "metadata": {},
   "outputs": [
    {
     "data": {
      "text/html": [
       "<div>\n",
       "<style scoped>\n",
       "    .dataframe tbody tr th:only-of-type {\n",
       "        vertical-align: middle;\n",
       "    }\n",
       "\n",
       "    .dataframe tbody tr th {\n",
       "        vertical-align: top;\n",
       "    }\n",
       "\n",
       "    .dataframe thead th {\n",
       "        text-align: right;\n",
       "    }\n",
       "</style>\n",
       "<table border=\"1\" class=\"dataframe\">\n",
       "  <thead>\n",
       "    <tr style=\"text-align: right;\">\n",
       "      <th></th>\n",
       "      <th>Prezzo</th>\n",
       "      <th>Consumo</th>\n",
       "      <th>Gradi</th>\n",
       "      <th>BankH</th>\n",
       "      <th>EndYear</th>\n",
       "      <th>AugustB</th>\n",
       "      <th>AugustC</th>\n",
       "      <th>Giorno</th>\n",
       "    </tr>\n",
       "  </thead>\n",
       "  <tbody>\n",
       "    <tr>\n",
       "      <td>1</td>\n",
       "      <td>61.10</td>\n",
       "      <td>31193.08</td>\n",
       "      <td>-1.0</td>\n",
       "      <td>0.0</td>\n",
       "      <td>1.0</td>\n",
       "      <td>0.0</td>\n",
       "      <td>0.0</td>\n",
       "      <td>lun</td>\n",
       "    </tr>\n",
       "    <tr>\n",
       "      <td>2</td>\n",
       "      <td>77.81</td>\n",
       "      <td>32828.72</td>\n",
       "      <td>5.0</td>\n",
       "      <td>0.0</td>\n",
       "      <td>1.0</td>\n",
       "      <td>0.0</td>\n",
       "      <td>0.0</td>\n",
       "      <td>mar</td>\n",
       "    </tr>\n",
       "    <tr>\n",
       "      <td>3</td>\n",
       "      <td>81.54</td>\n",
       "      <td>33032.88</td>\n",
       "      <td>2.0</td>\n",
       "      <td>0.0</td>\n",
       "      <td>1.0</td>\n",
       "      <td>0.0</td>\n",
       "      <td>0.0</td>\n",
       "      <td>mer</td>\n",
       "    </tr>\n",
       "    <tr>\n",
       "      <td>4</td>\n",
       "      <td>83.08</td>\n",
       "      <td>32607.85</td>\n",
       "      <td>0.0</td>\n",
       "      <td>0.0</td>\n",
       "      <td>1.0</td>\n",
       "      <td>0.0</td>\n",
       "      <td>0.0</td>\n",
       "      <td>gio</td>\n",
       "    </tr>\n",
       "    <tr>\n",
       "      <td>5</td>\n",
       "      <td>84.42</td>\n",
       "      <td>24338.01</td>\n",
       "      <td>0.0</td>\n",
       "      <td>1.0</td>\n",
       "      <td>0.0</td>\n",
       "      <td>0.0</td>\n",
       "      <td>0.0</td>\n",
       "      <td>ven</td>\n",
       "    </tr>\n",
       "    <tr>\n",
       "      <td>...</td>\n",
       "      <td>...</td>\n",
       "      <td>...</td>\n",
       "      <td>...</td>\n",
       "      <td>...</td>\n",
       "      <td>...</td>\n",
       "      <td>...</td>\n",
       "      <td>...</td>\n",
       "      <td>...</td>\n",
       "    </tr>\n",
       "    <tr>\n",
       "      <td>1455</td>\n",
       "      <td>31.90</td>\n",
       "      <td>18366.95</td>\n",
       "      <td>7.0</td>\n",
       "      <td>0.0</td>\n",
       "      <td>0.0</td>\n",
       "      <td>0.0</td>\n",
       "      <td>0.0</td>\n",
       "      <td>dom</td>\n",
       "    </tr>\n",
       "    <tr>\n",
       "      <td>1456</td>\n",
       "      <td>31.40</td>\n",
       "      <td>19012.19</td>\n",
       "      <td>5.0</td>\n",
       "      <td>0.0</td>\n",
       "      <td>0.0</td>\n",
       "      <td>0.0</td>\n",
       "      <td>0.0</td>\n",
       "      <td>lun</td>\n",
       "    </tr>\n",
       "    <tr>\n",
       "      <td>1457</td>\n",
       "      <td>36.52</td>\n",
       "      <td>19565.76</td>\n",
       "      <td>5.0</td>\n",
       "      <td>0.0</td>\n",
       "      <td>1.0</td>\n",
       "      <td>0.0</td>\n",
       "      <td>0.0</td>\n",
       "      <td>mar</td>\n",
       "    </tr>\n",
       "    <tr>\n",
       "      <td>1458</td>\n",
       "      <td>37.86</td>\n",
       "      <td>20564.55</td>\n",
       "      <td>1.0</td>\n",
       "      <td>0.0</td>\n",
       "      <td>1.0</td>\n",
       "      <td>0.0</td>\n",
       "      <td>0.0</td>\n",
       "      <td>mer</td>\n",
       "    </tr>\n",
       "    <tr>\n",
       "      <td>1459</td>\n",
       "      <td>25.58</td>\n",
       "      <td>20601.47</td>\n",
       "      <td>5.0</td>\n",
       "      <td>0.0</td>\n",
       "      <td>1.0</td>\n",
       "      <td>0.0</td>\n",
       "      <td>0.0</td>\n",
       "      <td>ven</td>\n",
       "    </tr>\n",
       "  </tbody>\n",
       "</table>\n",
       "<p>1459 rows × 8 columns</p>\n",
       "</div>"
      ],
      "text/plain": [
       "      Prezzo   Consumo  Gradi  BankH  EndYear  AugustB  AugustC Giorno\n",
       "1      61.10  31193.08   -1.0    0.0      1.0      0.0      0.0    lun\n",
       "2      77.81  32828.72    5.0    0.0      1.0      0.0      0.0    mar\n",
       "3      81.54  33032.88    2.0    0.0      1.0      0.0      0.0    mer\n",
       "4      83.08  32607.85    0.0    0.0      1.0      0.0      0.0    gio\n",
       "5      84.42  24338.01    0.0    1.0      0.0      0.0      0.0    ven\n",
       "...      ...       ...    ...    ...      ...      ...      ...    ...\n",
       "1455   31.90  18366.95    7.0    0.0      0.0      0.0      0.0    dom\n",
       "1456   31.40  19012.19    5.0    0.0      0.0      0.0      0.0    lun\n",
       "1457   36.52  19565.76    5.0    0.0      1.0      0.0      0.0    mar\n",
       "1458   37.86  20564.55    1.0    0.0      1.0      0.0      0.0    mer\n",
       "1459   25.58  20601.47    5.0    0.0      1.0      0.0      0.0    ven\n",
       "\n",
       "[1459 rows x 8 columns]"
      ]
     },
     "execution_count": 296,
     "metadata": {},
     "output_type": "execute_result"
    }
   ],
   "source": [
    "ita_08"
   ]
  },
  {
   "cell_type": "code",
   "execution_count": 297,
   "metadata": {},
   "outputs": [
    {
     "data": {
      "image/png": "[encoded data removed]",
      "text/plain": [
       "<Figure size 432x288 with 1 Axes>"
      ]
     },
     "metadata": {
      "needs_background": "light"
     },
     "output_type": "display_data"
    }
   ],
   "source": [
    "import matplotlib.pyplot as plt\n",
    "\n",
    "plt.scatter(ita_08[\"Prezzo\"], ita_08[\"Consumo\"])\n",
    "plt.show()"
   ]
  },
  {
   "cell_type": "code",
   "execution_count": 298,
   "metadata": {},
   "outputs": [
    {
     "data": {
      "image/png": "[encoded data removed]",
      "text/plain": [
       "<Figure size 432x288 with 1 Axes>"
      ]
     },
     "metadata": {
      "needs_background": "light"
     },
     "output_type": "display_data"
    }
   ],
   "source": [
    "plt.scatter(ita_08[\"Gradi\"], ita_08[\"Consumo\"])\n",
    "plt.show()"
   ]
  },
  {
   "cell_type": "code",
   "execution_count": 299,
   "metadata": {},
   "outputs": [
    {
     "data": {
      "image/png": "[encoded data removed]",
      "text/plain": [
       "<Figure size 432x288 with 4 Axes>"
      ]
     },
     "metadata": {
      "needs_background": "light"
     },
     "output_type": "display_data"
    }
   ],
   "source": [
    "plt.subplot(221)\n",
    "plt.scatter(ita_08[\"BankH\"], ita_08[\"Consumo\"])\n",
    "plt.subplot(222)\n",
    "plt.scatter(ita_08[\"EndYear\"], ita_08[\"Consumo\"])\n",
    "plt.subplot(223)\n",
    "plt.scatter(ita_08[\"AugustB\"], ita_08[\"Consumo\"])\n",
    "plt.subplot(224)\n",
    "plt.scatter(ita_08[\"AugustC\"], ita_08[\"Consumo\"])\n",
    "plt.show()"
   ]
  },
  {
   "cell_type": "code",
   "execution_count": 300,
   "metadata": {},
   "outputs": [
    {
     "data": {
      "image/png": "[encoded data removed]",
      "text/plain": [
       "<Figure size 432x288 with 1 Axes>"
      ]
     },
     "metadata": {
      "needs_background": "light"
     },
     "output_type": "display_data"
    }
   ],
   "source": [
    "plt.scatter(ita_08[\"Giorno\"], ita_08[\"Consumo\"])\n",
    "plt.show()"
   ]
  },
  {
   "cell_type": "code",
   "execution_count": 301,
   "metadata": {},
   "outputs": [],
   "source": [
    "ita_08[\"Gradi2\"] = ita_08[\"Gradi\"]**2"
   ]
  },
  {
   "cell_type": "code",
   "execution_count": 302,
   "metadata": {},
   "outputs": [],
   "source": [
    "from sklearn.model_selection import train_test_split\n",
    "from sklearn.preprocessing import StandardScaler, OneHotEncoder\n",
    "from sklearn.metrics import mean_squared_error,mean_absolute_error\n",
    "import numpy as np\n",
    "\n",
    "def preprocess_scale(X, scaler=None):\n",
    "    if not scaler:  \n",
    "        scaler = StandardScaler()\n",
    "        scaler.fit(X)\n",
    "    X = scaler.transform(X)\n",
    "    return X, scaler\n",
    "\n",
    "def preprocess_OneHot(X,encoder=None):\n",
    "    if not encoder:\n",
    "        encoder = OneHotEncoder(handle_unknown='ignore')\n",
    "        encoder.fit(X)\n",
    "    X = encoder.transform(X).toarray()\n",
    "    return X, encoder\n",
    "\n",
    "def preprocessing(X, OH_encoder=None, scaler=None):\n",
    "    X_categorical = X[\"Giorno\"].to_numpy().reshape(-1, 1)\n",
    "    X_numeric = X[[\"Prezzo\",\"Gradi\",\"Gradi2\",\"BankH\",\"EndYear\",\"AugustB\",\"AugustC\"]] \n",
    "    X_categorical, OH_encoder = preprocess_OneHot(X_categorical, OH_encoder)\n",
    "    X_numeric, scaler = preprocess_scale(X_numeric, scaler)\n",
    "    \n",
    "    dim_X_cat = X_categorical.shape[1]\n",
    "    dim_X_num = X_numeric.shape[1]\n",
    "    X = np.ndarray(shape=(X.shape[0],dim_X_cat+dim_X_num))\n",
    "    # print(X_categorical.shape[1])\n",
    "    # print(X_numeric.shape[1])\n",
    "\n",
    "    X[:,0:dim_X_num] = X_numeric\n",
    "    X[:,dim_X_num:dim_X_num+dim_X_cat] = X_categorical\n",
    "    return X, OH_encoder, scaler\n",
    "\n",
    "def metrics(X_test,y_test,regressor):\n",
    "    #R2\n",
    "    R2 = regressor.score(X=X_test,y=y_test.ravel())\n",
    "    y_pred = regressor.predict(X_test)\n",
    "    #RMSE\n",
    "    RMSE = mean_squared_error(y_test, y_pred,squared=False)\n",
    "    #MAE\n",
    "    MAE = mean_absolute_error(y_test, y_pred)\n",
    "    return R2,RMSE,MAE\n",
    "\n",
    "def print_result(R2,RMSE,MAE,reg):\n",
    "    print(\"R2 = %.2f\" % R2)\n",
    "    print(\"RMSE = %.2f\" % RMSE)\n",
    "    print(\"MAE = %.2f\" % MAE)\n",
    "    if hasattr(reg, 'coef_'):\n",
    "        print()\n",
    "        print(\"Coeff:\")\n",
    "        print(reg.coef_)\n",
    "    if hasattr(reg, 'intercept_'):\n",
    "        print()\n",
    "        print(\"Intercept:\")\n",
    "        print(reg.intercept_)"
   ]
  },
  {
   "cell_type": "code",
   "execution_count": 303,
   "metadata": {},
   "outputs": [],
   "source": [
    "X_train, X_test, y_train, y_test = train_test_split(ita_08[[\"Prezzo\",\"Gradi\",\"Gradi2\",\"BankH\",\"EndYear\",\"AugustB\",\"AugustC\",\"Giorno\"]], ita_08[\"Consumo\"], test_size=0.2, random_state=42)"
   ]
  },
  {
   "cell_type": "code",
   "execution_count": 304,
   "metadata": {},
   "outputs": [],
   "source": [
    "X_train, OH_encoder, scaler = preprocessing(X_train)\n",
    "y_train, scaler_y = preprocess_scale(y_train.to_numpy().reshape(-1, 1))\n",
    "\n",
    "X_test,_,_ = preprocessing(X_test,OH_encoder,scaler)\n",
    "y_test,_ = preprocess_scale(y_test.to_numpy().reshape(-1, 1), scaler_y)"
   ]
  },
  {
   "cell_type": "code",
   "execution_count": 305,
   "metadata": {},
   "outputs": [
    {
     "name": "stdout",
     "output_type": "stream",
     "text": [
      "R2 = 0.67\n",
      "RMSE = 0.63\n",
      "MAE = 0.46\n",
      "\n",
      "Coeff:\n",
      "[ 0.63198876 -0.31226146  0.33785022 -0.20527244 -0.0907312  -0.10043564\n",
      " -0.12736731 -0.45055078  0.33014176 -0.86264021  0.18327837  0.26736914\n",
      "  0.22762295  0.30477876]\n",
      "\n",
      "Intercept:\n",
      "0.0062603218128410324\n"
     ]
    }
   ],
   "source": [
    "from sklearn.linear_model import LinearRegression\n",
    "reg = LinearRegression().fit(X_train, y_train.ravel())\n",
    "R2,RMSE,MAE = metrics(X_test,y_test,reg)\n",
    "\n",
    "print_result(R2,RMSE,MAE,reg)"
   ]
  },
  {
   "cell_type": "code",
   "execution_count": 306,
   "metadata": {},
   "outputs": [
    {
     "name": "stdout",
     "output_type": "stream",
     "text": [
      "R2 = 0.66\n",
      "RMSE = 0.64\n",
      "MAE = 0.46\n",
      "\n",
      "Coeff:\n",
      "[[ 0.61542458 -0.27493056  0.3126479  -0.19853702 -0.11714944 -0.08677995\n",
      "  -0.11567777 -0.31791428  0.32176355 -0.89082692  0.02904282  0.27235584\n",
      "   0.28339097  0.30218802]]\n",
      "\n",
      "Intercept:\n",
      "[-0.03385189]\n"
     ]
    }
   ],
   "source": [
    "from sklearn.svm import SVR\n",
    "#Kernel Lineare\n",
    "reg = SVR(kernel='linear')\n",
    "reg.fit(X_train,y_train.ravel())\n",
    "R2,RMSE,MAE = metrics(X_test,y_test,reg)\n",
    "\n",
    "print_result(R2,RMSE,MAE,reg)"
   ]
  },
  {
   "cell_type": "code",
   "execution_count": 307,
   "metadata": {},
   "outputs": [
    {
     "name": "stdout",
     "output_type": "stream",
     "text": [
      "R2 = 0.58\n",
      "RMSE = 0.71\n",
      "MAE = 0.51\n",
      "\n",
      "Intercept:\n",
      "[-0.25705935]\n"
     ]
    }
   ],
   "source": [
    "#Kernel Polinomiale\n",
    "reg = SVR(kernel='poly')\n",
    "reg.fit(X_train,y_train.ravel())\n",
    "R2,RMSE,MAE = metrics(X_test,y_test,reg)\n",
    "\n",
    "print_result(R2,RMSE,MAE,reg)"
   ]
  },
  {
   "cell_type": "code",
   "execution_count": 308,
   "metadata": {},
   "outputs": [
    {
     "name": "stdout",
     "output_type": "stream",
     "text": [
      "R2 = 0.72\n",
      "RMSE = 0.58\n",
      "MAE = 0.38\n",
      "\n",
      "Intercept:\n",
      "[-0.12331459]\n"
     ]
    }
   ],
   "source": [
    "#Kernel Gaussiano\n",
    "reg = SVR(kernel='rbf')\n",
    "reg.fit(X_train,y_train.ravel())\n",
    "R2,RMSE,MAE = metrics(X_test,y_test,reg)\n",
    "\n",
    "print_result(R2,RMSE,MAE,reg)"
   ]
  },
  {
   "cell_type": "code",
   "execution_count": 309,
   "metadata": {},
   "outputs": [
    {
     "name": "stdout",
     "output_type": "stream",
     "text": [
      "R2 = 0.50\n",
      "RMSE = 0.77\n",
      "MAE = 0.51\n"
     ]
    }
   ],
   "source": [
    "##Random Forest\n",
    "from sklearn.ensemble import RandomForestRegressor\n",
    "reg = RandomForestRegressor(n_estimators = 2, random_state = 42)\n",
    "reg.fit(X_train, y_train.ravel())\n",
    "R2,RMSE,MAE = metrics(X_test,y_test,reg)\n",
    "\n",
    "print_result(R2,RMSE,MAE,reg)"
   ]
  },
  {
   "cell_type": "code",
   "execution_count": 310,
   "metadata": {},
   "outputs": [
    {
     "name": "stdout",
     "output_type": "stream",
     "text": [
      "R2 = 0.66\n",
      "RMSE = 0.64\n",
      "MAE = 0.42\n"
     ]
    }
   ],
   "source": [
    "##Random Forest\n",
    "from sklearn.ensemble import RandomForestRegressor\n",
    "reg = RandomForestRegressor(n_estimators = 100, random_state = 42)\n",
    "reg.fit(X_train, y_train.ravel())\n",
    "R2,RMSE,MAE = metrics(X_test,y_test,reg)\n",
    "\n",
    "print_result(R2,RMSE,MAE,reg)"
   ]
  },
  {
   "cell_type": "code",
   "execution_count": 311,
   "metadata": {},
   "outputs": [
    {
     "name": "stdout",
     "output_type": "stream",
     "text": [
      "R2 = 0.66\n",
      "RMSE = 0.64\n",
      "MAE = 0.42\n"
     ]
    }
   ],
   "source": [
    "##Random Forest\n",
    "from sklearn.ensemble import RandomForestRegressor\n",
    "reg = RandomForestRegressor(n_estimators = 1000, random_state = 42)\n",
    "reg.fit(X_train, y_train.ravel())\n",
    "R2,RMSE,MAE = metrics(X_test,y_test,reg)\n",
    "\n",
    "print_result(R2,RMSE,MAE,reg)"
   ]
  },
  {
   "cell_type": "code",
   "execution_count": 312,
   "metadata": {},
   "outputs": [
    {
     "name": "stdout",
     "output_type": "stream",
     "text": [
      "R2 = 0.72\n",
      "RMSE = 0.57\n",
      "MAE = 0.39\n"
     ]
    }
   ],
   "source": [
    "import xgboost as xgb\n",
    "reg = xgb.XGBRegressor(n_estimators=100,reg_lambda=2,gamma=0.1,max_depth=3)\n",
    "reg.fit(X_train, y_train)\n",
    "R2,RMSE,MAE = metrics(X_test,y_test,reg)\n",
    "\n",
    "print_result(R2,RMSE,MAE,reg)"
   ]
  },
  {
   "cell_type": "code",
   "execution_count": 313,
   "metadata": {},
   "outputs": [
    {
     "data": {
      "text/html": [
       "<div>\n",
       "<style scoped>\n",
       "    .dataframe tbody tr th:only-of-type {\n",
       "        vertical-align: middle;\n",
       "    }\n",
       "\n",
       "    .dataframe tbody tr th {\n",
       "        vertical-align: top;\n",
       "    }\n",
       "\n",
       "    .dataframe thead th {\n",
       "        text-align: right;\n",
       "    }\n",
       "</style>\n",
       "<table border=\"1\" class=\"dataframe\">\n",
       "  <thead>\n",
       "    <tr style=\"text-align: right;\">\n",
       "      <th></th>\n",
       "      <th>Prezzo</th>\n",
       "      <th>Gradi</th>\n",
       "      <th>Gradi2</th>\n",
       "      <th>BankH</th>\n",
       "      <th>EndYear</th>\n",
       "      <th>AugustB</th>\n",
       "      <th>AugustC</th>\n",
       "      <th>G1</th>\n",
       "      <th>G2</th>\n",
       "      <th>G3</th>\n",
       "      <th>G4</th>\n",
       "      <th>G5</th>\n",
       "      <th>G6</th>\n",
       "      <th>G7</th>\n",
       "    </tr>\n",
       "  </thead>\n",
       "  <tbody>\n",
       "    <tr>\n",
       "      <td>0</td>\n",
       "      <td>0.159767</td>\n",
       "      <td>0.028674</td>\n",
       "      <td>0.01349</td>\n",
       "      <td>0.116701</td>\n",
       "      <td>0.044806</td>\n",
       "      <td>0.019889</td>\n",
       "      <td>0.048527</td>\n",
       "      <td>0.200748</td>\n",
       "      <td>0.062689</td>\n",
       "      <td>0.225029</td>\n",
       "      <td>0.01149</td>\n",
       "      <td>0.002655</td>\n",
       "      <td>0.012847</td>\n",
       "      <td>0.05269</td>\n",
       "    </tr>\n",
       "  </tbody>\n",
       "</table>\n",
       "</div>"
      ],
      "text/plain": [
       "     Prezzo     Gradi   Gradi2     BankH   EndYear   AugustB   AugustC  \\\n",
       "0  0.159767  0.028674  0.01349  0.116701  0.044806  0.019889  0.048527   \n",
       "\n",
       "         G1        G2        G3       G4        G5        G6       G7  \n",
       "0  0.200748  0.062689  0.225029  0.01149  0.002655  0.012847  0.05269  "
      ]
     },
     "execution_count": 313,
     "metadata": {},
     "output_type": "execute_result"
    }
   ],
   "source": [
    "pd.DataFrame(reg.feature_importances_.reshape(1, -1), columns=[\"Prezzo\",\"Gradi\",\"Gradi2\",\"BankH\",\"EndYear\",\"AugustB\",\"AugustC\",\"G1\",\"G2\",\"G3\",\"G4\",\"G5\",\"G6\",\"G7\"])"
   ]
  },
  {
   "cell_type": "code",
   "execution_count": null,
   "metadata": {},
   "outputs": [],
   "source": []
  }
 ],
 "metadata": {
  "kernelspec": {
   "display_name": "Python 3",
   "language": "python",
   "name": "python3"
  },
  "language_info": {
   "codemirror_mode": {
    "name": "ipython",
    "version": 3
   },
   "file_extension": ".py",
   "mimetype": "text/x-python",
   "name": "python",
   "nbconvert_exporter": "python",
   "pygments_lexer": "ipython3",
   "version": "3.7.4"
  }
 },
 "nbformat": 4,
 "nbformat_minor": 2
}
