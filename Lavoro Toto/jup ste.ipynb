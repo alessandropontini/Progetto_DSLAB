{
 "cells": [
  {
   "cell_type": "code",
   "execution_count": 1,
   "metadata": {},
   "outputs": [],
   "source": [
    "import warnings\n",
    "import itertools\n",
    "import numpy as np\n",
    "import matplotlib.pyplot as plt\n",
    "warnings.filterwarnings(\"ignore\")\n",
    "import pandas as pd\n",
    "import statsmodels.api as sm"
   ]
  },
  {
   "cell_type": "code",
   "execution_count": 4,
   "metadata": {},
   "outputs": [
    {
     "data": {
      "text/html": [
       "<div>\n",
       "<style scoped>\n",
       "    .dataframe tbody tr th:only-of-type {\n",
       "        vertical-align: middle;\n",
       "    }\n",
       "\n",
       "    .dataframe tbody tr th {\n",
       "        vertical-align: top;\n",
       "    }\n",
       "\n",
       "    .dataframe thead th {\n",
       "        text-align: right;\n",
       "    }\n",
       "</style>\n",
       "<table border=\"1\" class=\"dataframe\">\n",
       "  <thead>\n",
       "    <tr style=\"text-align: right;\">\n",
       "      <th></th>\n",
       "      <th>Unnamed: 0</th>\n",
       "      <th>PrezzoScandi</th>\n",
       "      <th>ConsumiScandi</th>\n",
       "      <th>GradiScandi</th>\n",
       "      <th>ConsumipercScandi</th>\n",
       "      <th>PrezzopercScandi</th>\n",
       "      <th>PrezzoPol</th>\n",
       "      <th>ConsumiPol</th>\n",
       "      <th>ConsumipercPol</th>\n",
       "      <th>PrezzopercPol</th>\n",
       "      <th>...</th>\n",
       "      <th>ConsumiITA</th>\n",
       "      <th>GradiITA</th>\n",
       "      <th>ConsumipercITA</th>\n",
       "      <th>PrezzopercITA</th>\n",
       "      <th>BankHolidayITA</th>\n",
       "      <th>EndYearITA</th>\n",
       "      <th>AugustBorderITA</th>\n",
       "      <th>AugustCenterITA</th>\n",
       "      <th>DayOfWeekITA</th>\n",
       "      <th>DayOffITA</th>\n",
       "    </tr>\n",
       "  </thead>\n",
       "  <tbody>\n",
       "    <tr>\n",
       "      <th>0</th>\n",
       "      <td>1</td>\n",
       "      <td>29.46</td>\n",
       "      <td>33154.5</td>\n",
       "      <td>-9</td>\n",
       "      <td>0.000000</td>\n",
       "      <td>0.000000</td>\n",
       "      <td>148.06</td>\n",
       "      <td>13680</td>\n",
       "      <td>0.000000</td>\n",
       "      <td>0.000000</td>\n",
       "      <td>...</td>\n",
       "      <td>24659.16</td>\n",
       "      <td>-1</td>\n",
       "      <td>0.000000</td>\n",
       "      <td>0.000000</td>\n",
       "      <td>0</td>\n",
       "      <td>0</td>\n",
       "      <td>0</td>\n",
       "      <td>0</td>\n",
       "      <td>1</td>\n",
       "      <td>0</td>\n",
       "    </tr>\n",
       "    <tr>\n",
       "      <th>1</th>\n",
       "      <td>2</td>\n",
       "      <td>28.64</td>\n",
       "      <td>32427.6</td>\n",
       "      <td>-9</td>\n",
       "      <td>-2.192463</td>\n",
       "      <td>-2.783435</td>\n",
       "      <td>125.21</td>\n",
       "      <td>13115</td>\n",
       "      <td>-15.432933</td>\n",
       "      <td>-4.130117</td>\n",
       "      <td>...</td>\n",
       "      <td>23387.59</td>\n",
       "      <td>0</td>\n",
       "      <td>-5.156583</td>\n",
       "      <td>-8.501389</td>\n",
       "      <td>0</td>\n",
       "      <td>0</td>\n",
       "      <td>0</td>\n",
       "      <td>0</td>\n",
       "      <td>1</td>\n",
       "      <td>0</td>\n",
       "    </tr>\n",
       "    <tr>\n",
       "      <th>2</th>\n",
       "      <td>3</td>\n",
       "      <td>27.72</td>\n",
       "      <td>31971.2</td>\n",
       "      <td>-9</td>\n",
       "      <td>-1.407443</td>\n",
       "      <td>-3.212291</td>\n",
       "      <td>103.17</td>\n",
       "      <td>12438</td>\n",
       "      <td>-17.602428</td>\n",
       "      <td>-5.162028</td>\n",
       "      <td>...</td>\n",
       "      <td>22090.76</td>\n",
       "      <td>-1</td>\n",
       "      <td>-5.544949</td>\n",
       "      <td>-20.918569</td>\n",
       "      <td>0</td>\n",
       "      <td>0</td>\n",
       "      <td>0</td>\n",
       "      <td>0</td>\n",
       "      <td>1</td>\n",
       "      <td>0</td>\n",
       "    </tr>\n",
       "    <tr>\n",
       "      <th>3</th>\n",
       "      <td>4</td>\n",
       "      <td>27.79</td>\n",
       "      <td>31505.4</td>\n",
       "      <td>-9</td>\n",
       "      <td>-1.456936</td>\n",
       "      <td>0.252525</td>\n",
       "      <td>103.07</td>\n",
       "      <td>12022</td>\n",
       "      <td>-0.096927</td>\n",
       "      <td>-3.344589</td>\n",
       "      <td>...</td>\n",
       "      <td>21009.12</td>\n",
       "      <td>-1</td>\n",
       "      <td>-4.896346</td>\n",
       "      <td>0.000000</td>\n",
       "      <td>0</td>\n",
       "      <td>0</td>\n",
       "      <td>0</td>\n",
       "      <td>0</td>\n",
       "      <td>1</td>\n",
       "      <td>0</td>\n",
       "    </tr>\n",
       "    <tr>\n",
       "      <th>4</th>\n",
       "      <td>5</td>\n",
       "      <td>28.87</td>\n",
       "      <td>31433.4</td>\n",
       "      <td>-8</td>\n",
       "      <td>-0.228532</td>\n",
       "      <td>3.886290</td>\n",
       "      <td>102.97</td>\n",
       "      <td>11755</td>\n",
       "      <td>-0.097021</td>\n",
       "      <td>-2.220928</td>\n",
       "      <td>...</td>\n",
       "      <td>20350.99</td>\n",
       "      <td>-1</td>\n",
       "      <td>-3.132592</td>\n",
       "      <td>-1.518692</td>\n",
       "      <td>0</td>\n",
       "      <td>0</td>\n",
       "      <td>0</td>\n",
       "      <td>0</td>\n",
       "      <td>1</td>\n",
       "      <td>0</td>\n",
       "    </tr>\n",
       "  </tbody>\n",
       "</table>\n",
       "<p>5 rows × 39 columns</p>\n",
       "</div>"
      ],
      "text/plain": [
       "   Unnamed: 0  PrezzoScandi  ConsumiScandi  GradiScandi  ConsumipercScandi  \\\n",
       "0           1         29.46        33154.5           -9           0.000000   \n",
       "1           2         28.64        32427.6           -9          -2.192463   \n",
       "2           3         27.72        31971.2           -9          -1.407443   \n",
       "3           4         27.79        31505.4           -9          -1.456936   \n",
       "4           5         28.87        31433.4           -8          -0.228532   \n",
       "\n",
       "   PrezzopercScandi  PrezzoPol  ConsumiPol  ConsumipercPol  PrezzopercPol  \\\n",
       "0          0.000000     148.06       13680        0.000000       0.000000   \n",
       "1         -2.783435     125.21       13115      -15.432933      -4.130117   \n",
       "2         -3.212291     103.17       12438      -17.602428      -5.162028   \n",
       "3          0.252525     103.07       12022       -0.096927      -3.344589   \n",
       "4          3.886290     102.97       11755       -0.097021      -2.220928   \n",
       "\n",
       "   ...  ConsumiITA  GradiITA  ConsumipercITA  PrezzopercITA  BankHolidayITA  \\\n",
       "0  ...    24659.16        -1        0.000000       0.000000               0   \n",
       "1  ...    23387.59         0       -5.156583      -8.501389               0   \n",
       "2  ...    22090.76        -1       -5.544949     -20.918569               0   \n",
       "3  ...    21009.12        -1       -4.896346       0.000000               0   \n",
       "4  ...    20350.99        -1       -3.132592      -1.518692               0   \n",
       "\n",
       "   EndYearITA  AugustBorderITA  AugustCenterITA  DayOfWeekITA  DayOffITA  \n",
       "0           0                0                0             1          0  \n",
       "1           0                0                0             1          0  \n",
       "2           0                0                0             1          0  \n",
       "3           0                0                0             1          0  \n",
       "4           0                0                0             1          0  \n",
       "\n",
       "[5 rows x 39 columns]"
      ]
     },
     "execution_count": 4,
     "metadata": {},
     "output_type": "execute_result"
    }
   ],
   "source": [
    "ds = pd.read_csv(\"C:\\\\Users\\\\vizzi\\\\PROG_DSLAB_GITHUB\\\\Progetto_DSLAB\\\\DATASET SERIE STORICHE\\\\completissimo.csv\")\n",
    "# ds. = ['Data','01','02','03','04','05','06','07','08','09','10','11','12','13','14','15','16','17','18','19','20','21','22','23','24']\n",
    "ds.head()"
   ]
  },
  {
   "cell_type": "code",
   "execution_count": 16,
   "metadata": {},
   "outputs": [
    {
     "data": {
      "text/plain": [
       "Series([], dtype: int64)"
      ]
     },
     "execution_count": 16,
     "metadata": {},
     "output_type": "execute_result"
    }
   ],
   "source": [
    "null_counts = ds.isnull().sum()\n",
    "null_counts[null_counts > 0].sort_values(ascending=False)"
   ]
  },
  {
   "cell_type": "code",
   "execution_count": 17,
   "metadata": {},
   "outputs": [],
   "source": [
    "ds = pd.melt(ds, id_vars =['Data'], value_vars =['01','02','03','04','05','06','07','08','09','10','11','12','13','14','15','16','17','18','19','20','21','22','23','24'])\n",
    "ds.columns = ['Data','Ora','Consumo']"
   ]
  },
  {
   "cell_type": "code",
   "execution_count": 18,
   "metadata": {},
   "outputs": [
    {
     "data": {
      "text/html": [
       "<div>\n",
       "<style scoped>\n",
       "    .dataframe tbody tr th:only-of-type {\n",
       "        vertical-align: middle;\n",
       "    }\n",
       "\n",
       "    .dataframe tbody tr th {\n",
       "        vertical-align: top;\n",
       "    }\n",
       "\n",
       "    .dataframe thead th {\n",
       "        text-align: right;\n",
       "    }\n",
       "</style>\n",
       "<table border=\"1\" class=\"dataframe\">\n",
       "  <thead>\n",
       "    <tr style=\"text-align: right;\">\n",
       "      <th></th>\n",
       "      <th>Consumo</th>\n",
       "    </tr>\n",
       "    <tr>\n",
       "      <th>Data</th>\n",
       "      <th></th>\n",
       "    </tr>\n",
       "  </thead>\n",
       "  <tbody>\n",
       "    <tr>\n",
       "      <td>2012-01-01 01:00:00</td>\n",
       "      <td>24659.160</td>\n",
       "    </tr>\n",
       "    <tr>\n",
       "      <td>2012-01-01 02:00:00</td>\n",
       "      <td>23387.590</td>\n",
       "    </tr>\n",
       "    <tr>\n",
       "      <td>2012-01-01 03:00:00</td>\n",
       "      <td>22090.760</td>\n",
       "    </tr>\n",
       "    <tr>\n",
       "      <td>2012-01-01 04:00:00</td>\n",
       "      <td>21009.120</td>\n",
       "    </tr>\n",
       "    <tr>\n",
       "      <td>2012-01-01 05:00:00</td>\n",
       "      <td>20350.990</td>\n",
       "    </tr>\n",
       "    <tr>\n",
       "      <td>...</td>\n",
       "      <td>...</td>\n",
       "    </tr>\n",
       "    <tr>\n",
       "      <td>2015-12-31 20:00:00</td>\n",
       "      <td>33426.851</td>\n",
       "    </tr>\n",
       "    <tr>\n",
       "      <td>2015-12-31 21:00:00</td>\n",
       "      <td>31423.924</td>\n",
       "    </tr>\n",
       "    <tr>\n",
       "      <td>2015-12-31 22:00:00</td>\n",
       "      <td>29315.420</td>\n",
       "    </tr>\n",
       "    <tr>\n",
       "      <td>2015-12-31 23:00:00</td>\n",
       "      <td>27179.844</td>\n",
       "    </tr>\n",
       "    <tr>\n",
       "      <td>2016-01-01 00:00:00</td>\n",
       "      <td>25103.143</td>\n",
       "    </tr>\n",
       "  </tbody>\n",
       "</table>\n",
       "<p>35064 rows × 1 columns</p>\n",
       "</div>"
      ],
      "text/plain": [
       "                       Consumo\n",
       "Data                          \n",
       "2012-01-01 01:00:00  24659.160\n",
       "2012-01-01 02:00:00  23387.590\n",
       "2012-01-01 03:00:00  22090.760\n",
       "2012-01-01 04:00:00  21009.120\n",
       "2012-01-01 05:00:00  20350.990\n",
       "...                        ...\n",
       "2015-12-31 20:00:00  33426.851\n",
       "2015-12-31 21:00:00  31423.924\n",
       "2015-12-31 22:00:00  29315.420\n",
       "2015-12-31 23:00:00  27179.844\n",
       "2016-01-01 00:00:00  25103.143\n",
       "\n",
       "[35064 rows x 1 columns]"
      ]
     },
     "execution_count": 18,
     "metadata": {},
     "output_type": "execute_result"
    }
   ],
   "source": [
    "from datetime import datetime, timedelta\n",
    "ds[\"Data\"] = [datetime(year=int(str(s)[0:4]), month=int(str(s)[4:6]), day=int(str(s)[6:8])) for s in ds[\"Data\"]]\n",
    "ds[\"Data\"] = [d + timedelta(hours=int(o)) for d,o in zip(ds[\"Data\"],ds[\"Ora\"])]\n",
    "ds = ds.sort_values(by=['Data']).reset_index()\n",
    "del ds[\"Ora\"]\n",
    "del ds[\"index\"]\n",
    "\n",
    "ds.set_index('Data', inplace=True)\n",
    "ds"
   ]
  },
  {
   "cell_type": "code",
   "execution_count": 20,
   "metadata": {},
   "outputs": [
    {
     "name": "stdout",
     "output_type": "stream",
     "text": [
      "Results of Dickey-Fuller Test:\n",
      "Test Statistic                   -23.972527\n",
      "p-value                            0.000000\n",
      "#Lags Used                        52.000000\n",
      "Number of Observations Used    35011.000000\n",
      "Critical Value (1%)               -3.430537\n",
      "Critical Value (5%)               -2.861623\n",
      "Critical Value (10%)              -2.566814\n",
      "dtype: float64\n"
     ]
    }
   ],
   "source": [
    "#define function for ADF test\n",
    "from statsmodels.tsa.stattools import adfuller\n",
    "def adf_test(timeseries):\n",
    "    #Perform Dickey-Fuller test:\n",
    "    print ('Results of Dickey-Fuller Test:')\n",
    "    dftest = adfuller(timeseries, autolag='AIC')\n",
    "    dfoutput = pd.Series(dftest[0:4], index=['Test Statistic','p-value','#Lags Used','Number of Observations Used'])\n",
    "    for key,value in dftest[4].items():\n",
    "       dfoutput['Critical Value (%s)'%key] = value\n",
    "    print (dfoutput)\n",
    "\n",
    "#apply adf test on the series\n",
    "adf_test(ds[\"Consumo\"])"
   ]
  },
  {
   "cell_type": "code",
   "execution_count": 19,
   "metadata": {},
   "outputs": [
    {
     "data": {
      "text/plain": [
       "(0.01, False)"
      ]
     },
     "execution_count": 19,
     "metadata": {},
     "output_type": "execute_result"
    }
   ],
   "source": [
    "from pmdarima.arima import ADFTest\n",
    "adf_test = ADFTest(alpha=0.05)\n",
    "adf_test.should_diff(ds)"
   ]
  },
  {
   "cell_type": "code",
   "execution_count": null,
   "metadata": {},
   "outputs": [],
   "source": []
  },
  {
   "cell_type": "code",
   "execution_count": null,
   "metadata": {},
   "outputs": [],
   "source": []
  },
  {
   "cell_type": "code",
   "execution_count": null,
   "metadata": {},
   "outputs": [],
   "source": []
  },
  {
   "cell_type": "code",
   "execution_count": null,
   "metadata": {},
   "outputs": [],
   "source": []
  },
  {
   "cell_type": "code",
   "execution_count": null,
   "metadata": {},
   "outputs": [],
   "source": []
  },
  {
   "cell_type": "code",
   "execution_count": null,
   "metadata": {},
   "outputs": [],
   "source": []
  },
  {
   "cell_type": "code",
   "execution_count": 7,
   "metadata": {},
   "outputs": [],
   "source": [
    "import numpy as np\n",
    "import matplotlib.pylab as plt\n",
    "%matplotlib inline"
   ]
  },
  {
   "cell_type": "code",
   "execution_count": 8,
   "metadata": {},
   "outputs": [
    {
     "name": "stderr",
     "output_type": "stream",
     "text": [
      "C:\\ProgramData\\Anaconda3\\lib\\site-packages\\pandas\\plotting\\_matplotlib\\converter.py:103: FutureWarning: Using an implicitly registered datetime converter for a matplotlib plotting method. The converter was registered by pandas on import. Future versions of pandas will require you to explicitly register matplotlib converters.\n",
      "\n",
      "To register the converters:\n",
      "\t>>> from pandas.plotting import register_matplotlib_converters\n",
      "\t>>> register_matplotlib_converters()\n",
      "  warnings.warn(msg, FutureWarning)\n"
     ]
    },
    {
     "data": {
      "text/plain": [
       "[<matplotlib.lines.Line2D at 0x2285e5a8c08>]"
      ]
     },
     "execution_count": 8,
     "metadata": {},
     "output_type": "execute_result"
    },
    {
     "data": {
      "image/png": "[encoded data removed]",
      "text/plain": [
       "<Figure size 432x288 with 1 Axes>"
      ]
     },
     "metadata": {
      "needs_background": "light"
     },
     "output_type": "display_data"
    }
   ],
   "source": [
    "plt.plot(ds)"
   ]
  },
  {
   "cell_type": "code",
   "execution_count": 12,
   "metadata": {},
   "outputs": [
    {
     "data": {
      "image/png": "[encoded data removed]",
      "text/plain": [
       "<Figure size 432x288 with 4 Axes>"
      ]
     },
     "execution_count": 12,
     "metadata": {},
     "output_type": "execute_result"
    },
    {
     "data": {
      "image/png": "[encoded data removed]",
      "text/plain": [
       "<Figure size 432x288 with 4 Axes>"
      ]
     },
     "metadata": {
      "needs_background": "light"
     },
     "output_type": "display_data"
    }
   ],
   "source": [
    "# ETS Decomposition \n",
    "from statsmodels.tsa.seasonal import seasonal_decompose \n",
    "result = seasonal_decompose(ds['Consumo'], model ='multiplicative') \n",
    "result.plot()"
   ]
  },
  {
   "cell_type": "code",
   "execution_count": null,
   "metadata": {},
   "outputs": [],
   "source": []
  },
  {
   "cell_type": "code",
   "execution_count": null,
   "metadata": {},
   "outputs": [],
   "source": []
  },
  {
   "cell_type": "code",
   "execution_count": null,
   "metadata": {},
   "outputs": [],
   "source": []
  },
  {
   "cell_type": "code",
   "execution_count": null,
   "metadata": {},
   "outputs": [],
   "source": []
  },
  {
   "cell_type": "code",
   "execution_count": null,
   "metadata": {},
   "outputs": [],
   "source": []
  },
  {
   "cell_type": "code",
   "execution_count": null,
   "metadata": {},
   "outputs": [],
   "source": []
  },
  {
   "cell_type": "code",
   "execution_count": null,
   "metadata": {},
   "outputs": [],
   "source": []
  },
  {
   "cell_type": "code",
   "execution_count": 10,
   "metadata": {},
   "outputs": [
    {
     "name": "stdout",
     "output_type": "stream",
     "text": [
      "Performing stepwise search to minimize aic\n",
      "Fit ARIMA(1,1,1)x(0,0,0,0) [intercept=True]; AIC=601883.826, BIC=601917.686, Time=4.786 seconds\n",
      "Fit ARIMA(0,1,0)x(0,0,0,0) [intercept=True]; AIC=633651.867, BIC=633668.797, Time=0.777 seconds\n",
      "Fit ARIMA(1,1,0)x(0,0,0,0) [intercept=True]; AIC=604906.596, BIC=604931.991, Time=2.183 seconds\n",
      "Fit ARIMA(0,1,1)x(0,0,0,0) [intercept=True]; AIC=610167.032, BIC=610192.427, Time=7.495 seconds\n",
      "Fit ARIMA(0,1,0)x(0,0,0,0) [intercept=False]; AIC=633649.867, BIC=633658.332, Time=0.339 seconds\n",
      "Fit ARIMA(2,1,1)x(0,0,0,0) [intercept=True]; AIC=597906.628, BIC=597948.953, Time=20.317 seconds\n",
      "Fit ARIMA(2,1,0)x(0,0,0,0) [intercept=True]; AIC=601060.561, BIC=601094.420, Time=2.722 seconds\n",
      "Fit ARIMA(3,1,1)x(0,0,0,0) [intercept=True]; AIC=597137.320, BIC=597188.109, Time=41.399 seconds\n",
      "Near non-invertible roots for order (3, 1, 1)(0, 0, 0, 0); setting score to inf (at least one inverse root too close to the border of the unit circle: 0.990)\n",
      "Fit ARIMA(2,1,2)x(0,0,0,0) [intercept=True]; AIC=597120.602, BIC=597171.391, Time=30.729 seconds\n",
      "Fit ARIMA(1,1,2)x(0,0,0,0) [intercept=True]; AIC=601729.960, BIC=601772.285, Time=5.870 seconds\n",
      "Fit ARIMA(3,1,2)x(0,0,0,0) [intercept=True]; AIC=597607.853, BIC=597667.107, Time=46.558 seconds\n",
      "Near non-invertible roots for order (3, 1, 2)(0, 0, 0, 0); setting score to inf (at least one inverse root too close to the border of the unit circle: 0.995)\n",
      "Fit ARIMA(2,1,3)x(0,0,0,0) [intercept=True]; AIC=597118.279, BIC=597177.534, Time=47.132 seconds\n",
      "Fit ARIMA(1,1,3)x(0,0,0,0) [intercept=True]; AIC=600771.912, BIC=600822.701, Time=9.979 seconds\n",
      "Fit ARIMA(3,1,3)x(0,0,0,0) [intercept=True]; AIC=596993.494, BIC=597061.214, Time=54.029 seconds\n",
      "Total fit time: 274.338 seconds\n"
     ]
    },
    {
     "data": {
      "text/html": [
       "<table class=\"simpletable\">\n",
       "<caption>SARIMAX Results</caption>\n",
       "<tr>\n",
       "  <th>Dep. Variable:</th>           <td>y</td>        <th>  No. Observations:  </th>    <td>35064</td>   \n",
       "</tr>\n",
       "<tr>\n",
       "  <th>Model:</th>           <td>SARIMAX(3, 1, 3)</td> <th>  Log Likelihood     </th> <td>-298488.747</td>\n",
       "</tr>\n",
       "<tr>\n",
       "  <th>Date:</th>            <td>Mon, 06 Jul 2020</td> <th>  AIC                </th> <td>596993.494</td> \n",
       "</tr>\n",
       "<tr>\n",
       "  <th>Time:</th>                <td>08:10:51</td>     <th>  BIC                </th> <td>597061.214</td> \n",
       "</tr>\n",
       "<tr>\n",
       "  <th>Sample:</th>                  <td>0</td>        <th>  HQIC               </th> <td>597015.063</td> \n",
       "</tr>\n",
       "<tr>\n",
       "  <th></th>                     <td> - 35064</td>     <th>                     </th>      <td> </td>     \n",
       "</tr>\n",
       "<tr>\n",
       "  <th>Covariance Type:</th>        <td>opg</td>       <th>                     </th>      <td> </td>     \n",
       "</tr>\n",
       "</table>\n",
       "<table class=\"simpletable\">\n",
       "<tr>\n",
       "      <td></td>         <th>coef</th>     <th>std err</th>      <th>z</th>      <th>P>|z|</th>  <th>[0.025</th>    <th>0.975]</th>  \n",
       "</tr>\n",
       "<tr>\n",
       "  <th>intercept</th> <td>    0.2750</td> <td>    0.446</td> <td>    0.617</td> <td> 0.537</td> <td>   -0.599</td> <td>    1.149</td>\n",
       "</tr>\n",
       "<tr>\n",
       "  <th>ar.L1</th>     <td>    1.0625</td> <td>    0.063</td> <td>   16.883</td> <td> 0.000</td> <td>    0.939</td> <td>    1.186</td>\n",
       "</tr>\n",
       "<tr>\n",
       "  <th>ar.L2</th>     <td>    0.2039</td> <td>    0.100</td> <td>    2.049</td> <td> 0.040</td> <td>    0.009</td> <td>    0.399</td>\n",
       "</tr>\n",
       "<tr>\n",
       "  <th>ar.L3</th>     <td>   -0.4333</td> <td>    0.044</td> <td>   -9.908</td> <td> 0.000</td> <td>   -0.519</td> <td>   -0.348</td>\n",
       "</tr>\n",
       "<tr>\n",
       "  <th>ma.L1</th>     <td>   -0.2083</td> <td>    0.064</td> <td>   -3.246</td> <td> 0.001</td> <td>   -0.334</td> <td>   -0.083</td>\n",
       "</tr>\n",
       "<tr>\n",
       "  <th>ma.L2</th>     <td>   -0.6789</td> <td>    0.045</td> <td>  -15.250</td> <td> 0.000</td> <td>   -0.766</td> <td>   -0.592</td>\n",
       "</tr>\n",
       "<tr>\n",
       "  <th>ma.L3</th>     <td>   -0.0527</td> <td>    0.019</td> <td>   -2.800</td> <td> 0.005</td> <td>   -0.090</td> <td>   -0.016</td>\n",
       "</tr>\n",
       "<tr>\n",
       "  <th>sigma2</th>    <td> 1.448e+06</td> <td>    1e+04</td> <td>  144.486</td> <td> 0.000</td> <td> 1.43e+06</td> <td> 1.47e+06</td>\n",
       "</tr>\n",
       "</table>\n",
       "<table class=\"simpletable\">\n",
       "<tr>\n",
       "  <th>Ljung-Box (Q):</th>          <td>27099.28</td> <th>  Jarque-Bera (JB):  </th> <td>2200.34</td>\n",
       "</tr>\n",
       "<tr>\n",
       "  <th>Prob(Q):</th>                  <td>0.00</td>   <th>  Prob(JB):          </th>  <td>0.00</td>  \n",
       "</tr>\n",
       "<tr>\n",
       "  <th>Heteroskedasticity (H):</th>   <td>1.26</td>   <th>  Skew:              </th>  <td>0.09</td>  \n",
       "</tr>\n",
       "<tr>\n",
       "  <th>Prob(H) (two-sided):</th>      <td>0.00</td>   <th>  Kurtosis:          </th>  <td>4.21</td>  \n",
       "</tr>\n",
       "</table><br/><br/>Warnings:<br/>[1] Covariance matrix calculated using the outer product of gradients (complex-step)."
      ],
      "text/plain": [
       "<class 'statsmodels.iolib.summary.Summary'>\n",
       "\"\"\"\n",
       "                               SARIMAX Results                                \n",
       "==============================================================================\n",
       "Dep. Variable:                      y   No. Observations:                35064\n",
       "Model:               SARIMAX(3, 1, 3)   Log Likelihood             -298488.747\n",
       "Date:                Mon, 06 Jul 2020   AIC                         596993.494\n",
       "Time:                        08:10:51   BIC                         597061.214\n",
       "Sample:                             0   HQIC                        597015.063\n",
       "                              - 35064                                         \n",
       "Covariance Type:                  opg                                         \n",
       "==============================================================================\n",
       "                 coef    std err          z      P>|z|      [0.025      0.975]\n",
       "------------------------------------------------------------------------------\n",
       "intercept      0.2750      0.446      0.617      0.537      -0.599       1.149\n",
       "ar.L1          1.0625      0.063     16.883      0.000       0.939       1.186\n",
       "ar.L2          0.2039      0.100      2.049      0.040       0.009       0.399\n",
       "ar.L3         -0.4333      0.044     -9.908      0.000      -0.519      -0.348\n",
       "ma.L1         -0.2083      0.064     -3.246      0.001      -0.334      -0.083\n",
       "ma.L2         -0.6789      0.045    -15.250      0.000      -0.766      -0.592\n",
       "ma.L3         -0.0527      0.019     -2.800      0.005      -0.090      -0.016\n",
       "sigma2      1.448e+06      1e+04    144.486      0.000    1.43e+06    1.47e+06\n",
       "===================================================================================\n",
       "Ljung-Box (Q):                    27099.28   Jarque-Bera (JB):              2200.34\n",
       "Prob(Q):                              0.00   Prob(JB):                         0.00\n",
       "Heteroskedasticity (H):               1.26   Skew:                             0.09\n",
       "Prob(H) (two-sided):                  0.00   Kurtosis:                         4.21\n",
       "===================================================================================\n",
       "\n",
       "Warnings:\n",
       "[1] Covariance matrix calculated using the outer product of gradients (complex-step).\n",
       "\"\"\""
      ]
     },
     "execution_count": 10,
     "metadata": {},
     "output_type": "execute_result"
    }
   ],
   "source": [
    "###https://www.geeksforgeeks.org/python-arima-model-for-time-series-forecasting/\n",
    "\n",
    "# Import the library \n",
    "from pmdarima import auto_arima \n",
    "  \n",
    "# Ignore harmless warnings \n",
    "import warnings \n",
    "warnings.filterwarnings(\"ignore\") \n",
    "  \n",
    "# Fit auto_arima function to AirPassengers dataset \n",
    "stepwise_fit = auto_arima(ds['Consumo'], start_p = 1, start_q = 1, \n",
    "                          max_p = 3, max_q = 3, m = 8760, \n",
    "                          start_P = 0, seasonal = False, \n",
    "                          d = None, D = 1, trace = True, \n",
    "                          error_action ='ignore',   # we don't want to know if an order does not work \n",
    "                          suppress_warnings = True,  # we don't want convergence warnings \n",
    "                          stepwise = True)           # set to stepwise \n",
    "  \n",
    "# To print the summary \n",
    "stepwise_fit.summary() "
   ]
  },
  {
   "cell_type": "code",
   "execution_count": null,
   "metadata": {},
   "outputs": [],
   "source": []
  }
 ],
 "metadata": {
  "kernelspec": {
   "display_name": "Python 3",
   "language": "python",
   "name": "python3"
  },
  "language_info": {
   "codemirror_mode": {
    "name": "ipython",
    "version": 3
   },
   "file_extension": ".py",
   "mimetype": "text/x-python",
   "name": "python",
   "nbconvert_exporter": "python",
   "pygments_lexer": "ipython3",
   "version": "3.7.3"
  }
 },
 "nbformat": 4,
 "nbformat_minor": 2
}
